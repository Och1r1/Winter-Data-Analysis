{
 "cells": [
  {
   "cell_type": "markdown",
   "id": "f817d3ea-32fb-4850-849b-8ffa56970335",
   "metadata": {},
   "source": [
    "## Winter Analysis Data Challenge :OO\n",
    "### Import"
   ]
  },
  {
   "cell_type": "code",
   "execution_count": 2,
   "id": "4b59e1ea-2458-4fc9-8c70-c03e576dd98f",
   "metadata": {},
   "outputs": [],
   "source": [
    "import pandas as pd\n",
    "import geopandas as gpd\n",
    "from shapely.geometry import Point, Polygon, MultiPolygon\n",
    "from geoalchemy2 import Geometry, WKTElement\n",
    "import matplotlib.pyplot as plt\n",
    "from sqlalchemy import text"
   ]
  },
  {
   "cell_type": "markdown",
   "id": "560793cc-bb49-489e-b31f-58fff66bb25c",
   "metadata": {},
   "source": [
    "### Setting up Datasets"
   ]
  },
  {
   "cell_type": "code",
   "execution_count": 42,
   "id": "80ba69c0-12f4-4330-beea-2db31d1e5b45",
   "metadata": {},
   "outputs": [],
   "source": [
    "# Station Entries\n",
    "stationEntries = pd.read_csv('TrainStationEntriesExits/train-station-entries-exits-data-may-2025.csv')\n",
    "# Station Entrance\n",
    "stationEntrances = pd.read_csv('TrainStationEntranceLocations/stationentrances2020_v4.csv')\n",
    "# Opal Patronage\n",
    "opal = pd.read_csv('OpalPatronage/Opal_Patronage_20200101.txt', sep='|')"
   ]
  },
  {
   "cell_type": "code",
   "execution_count": 48,
   "id": "267c6b5e-3ee2-428b-8928-6e2905198830",
   "metadata": {},
   "outputs": [
    {
     "data": {
      "text/html": [
       "<div>\n",
       "<style scoped>\n",
       "    .dataframe tbody tr th:only-of-type {\n",
       "        vertical-align: middle;\n",
       "    }\n",
       "\n",
       "    .dataframe tbody tr th {\n",
       "        vertical-align: top;\n",
       "    }\n",
       "\n",
       "    .dataframe thead th {\n",
       "        text-align: right;\n",
       "    }\n",
       "</style>\n",
       "<table border=\"1\" class=\"dataframe\">\n",
       "  <thead>\n",
       "    <tr style=\"text-align: right;\">\n",
       "      <th></th>\n",
       "      <th>Train_Station</th>\n",
       "      <th>Street_Name</th>\n",
       "      <th>Street_Type</th>\n",
       "      <th>Entrance_Type</th>\n",
       "      <th>LAT</th>\n",
       "      <th>LONG</th>\n",
       "      <th>Exit_Number</th>\n",
       "    </tr>\n",
       "  </thead>\n",
       "  <tbody>\n",
       "    <tr>\n",
       "      <th>0</th>\n",
       "      <td>Aberdeen</td>\n",
       "      <td>Macqueen</td>\n",
       "      <td>St</td>\n",
       "      <td>Ramp</td>\n",
       "      <td>-32.166886</td>\n",
       "      <td>150.891957</td>\n",
       "      <td>NaN</td>\n",
       "    </tr>\n",
       "    <tr>\n",
       "      <th>1</th>\n",
       "      <td>Aberdeen</td>\n",
       "      <td>Macqueen</td>\n",
       "      <td>St</td>\n",
       "      <td>Stairs</td>\n",
       "      <td>-32.166900</td>\n",
       "      <td>150.891975</td>\n",
       "      <td>NaN</td>\n",
       "    </tr>\n",
       "    <tr>\n",
       "      <th>2</th>\n",
       "      <td>Adamstown</td>\n",
       "      <td>Park</td>\n",
       "      <td>Ave</td>\n",
       "      <td>Path</td>\n",
       "      <td>-32.933706</td>\n",
       "      <td>151.720452</td>\n",
       "      <td>NaN</td>\n",
       "    </tr>\n",
       "    <tr>\n",
       "      <th>3</th>\n",
       "      <td>Adamstown</td>\n",
       "      <td>Park</td>\n",
       "      <td>Ave</td>\n",
       "      <td>Path</td>\n",
       "      <td>-32.933827</td>\n",
       "      <td>151.720236</td>\n",
       "      <td>NaN</td>\n",
       "    </tr>\n",
       "    <tr>\n",
       "      <th>4</th>\n",
       "      <td>Adamstown</td>\n",
       "      <td>St James</td>\n",
       "      <td>Rd</td>\n",
       "      <td>Stairs</td>\n",
       "      <td>-32.933414</td>\n",
       "      <td>151.720363</td>\n",
       "      <td>NaN</td>\n",
       "    </tr>\n",
       "  </tbody>\n",
       "</table>\n",
       "</div>"
      ],
      "text/plain": [
       "  Train_Station Street_Name Street_Type Entrance_Type        LAT        LONG  \\\n",
       "0      Aberdeen    Macqueen          St          Ramp -32.166886  150.891957   \n",
       "1      Aberdeen    Macqueen          St        Stairs -32.166900  150.891975   \n",
       "2     Adamstown        Park         Ave          Path -32.933706  151.720452   \n",
       "3     Adamstown        Park         Ave          Path -32.933827  151.720236   \n",
       "4     Adamstown    St James          Rd        Stairs -32.933414  151.720363   \n",
       "\n",
       "   Exit_Number  \n",
       "0          NaN  \n",
       "1          NaN  \n",
       "2          NaN  \n",
       "3          NaN  \n",
       "4          NaN  "
      ]
     },
     "execution_count": 48,
     "metadata": {},
     "output_type": "execute_result"
    }
   ],
   "source": [
    "stationEntrances.head()"
   ]
  },
  {
   "cell_type": "code",
   "execution_count": null,
   "id": "1063adf7-bd41-44aa-91aa-e395ea08ea13",
   "metadata": {},
   "outputs": [],
   "source": []
  }
 ],
 "metadata": {
  "kernelspec": {
   "display_name": "Python 3 (ipykernel)",
   "language": "python",
   "name": "python3"
  },
  "language_info": {
   "codemirror_mode": {
    "name": "ipython",
    "version": 3
   },
   "file_extension": ".py",
   "mimetype": "text/x-python",
   "name": "python",
   "nbconvert_exporter": "python",
   "pygments_lexer": "ipython3",
   "version": "3.12.7"
  }
 },
 "nbformat": 4,
 "nbformat_minor": 5
}

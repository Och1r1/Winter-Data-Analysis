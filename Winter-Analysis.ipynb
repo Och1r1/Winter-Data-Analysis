{
 "cells": [
  {
   "cell_type": "markdown",
   "id": "f817d3ea-32fb-4850-849b-8ffa56970335",
   "metadata": {},
   "source": [
    "## Winter Analysis Data Challenge :OO\n",
    "### Import"
   ]
  },
  {
   "cell_type": "code",
   "execution_count": 2,
   "id": "4b59e1ea-2458-4fc9-8c70-c03e576dd98f",
   "metadata": {},
   "outputs": [],
   "source": [
    "import pandas as pd\n",
    "import geopandas as gpd\n",
    "from shapely.geometry import Point, Polygon, MultiPolygon\n",
    "from geoalchemy2 import Geometry, WKTElement\n",
    "import matplotlib.pyplot as plt\n",
    "from sqlalchemy import text"
   ]
  },
  {
   "cell_type": "markdown",
   "id": "560793cc-bb49-489e-b31f-58fff66bb25c",
   "metadata": {},
   "source": [
    "### Setting up Datasets"
   ]
  },
  {
   "cell_type": "code",
   "execution_count": 42,
   "id": "80ba69c0-12f4-4330-beea-2db31d1e5b45",
   "metadata": {},
   "outputs": [],
   "source": [
    "# Station Entries\n",
    "stationEntries = pd.read_csv('TrainStationEntriesExits/train-station-entries-exits-data-may-2025.csv')\n",
    "# Station Entrance\n",
    "stationEntrances = pd.read_csv('TrainStationEntranceLocations/stationentrances2020_v4.csv')\n",
    "# Opal Patronage\n",
    "opal = pd.read_csv('OpalPatronage/Opal_Patronage_20200101.txt', sep='|')"
   ]
  },
  {
   "cell_type": "code",
   "execution_count": 56,
   "id": "267c6b5e-3ee2-428b-8928-6e2905198830",
   "metadata": {},
   "outputs": [],
   "source": [
    "opal['trip_origin_date'] = pd.to_datetime(opal['trip_origin_date'], errors='coerce')\n",
    "\n",
    "# Step 2: Clean Tap_Ons and Tap_Offs\n",
    "# Replace '<50' with 49 (or another estimated number if appropriate), then convert to int\n",
    "opal['Tap_Ons'] = opal['Tap_Ons'].replace('<50', '49')\n",
    "opal['Tap_Offs'] = opal['Tap_Offs'].replace('<50', '49')\n",
    "\n",
    "# Step 3: Convert to numeric\n",
    "opal['Tap_Ons'] = pd.to_numeric(opal['Tap_Ons'], errors='coerce')\n",
    "opal['Tap_Offs'] = pd.to_numeric(opal['Tap_Offs'], errors='coerce')"
   ]
  },
  {
   "cell_type": "code",
   "execution_count": 62,
   "id": "1063adf7-bd41-44aa-91aa-e395ea08ea13",
   "metadata": {},
   "outputs": [
    {
     "data": {
      "text/plain": [
       "trip_origin_date    datetime64[ns]\n",
       "mode_name                   object\n",
       "ti_region                   object\n",
       "tap_hour                     int64\n",
       "Tap_Ons                      int64\n",
       "Tap_Offs                     int64\n",
       "dtype: object"
      ]
     },
     "execution_count": 62,
     "metadata": {},
     "output_type": "execute_result"
    }
   ],
   "source": [
    "opal.dtypes"
   ]
  },
  {
   "cell_type": "code",
   "execution_count": null,
   "id": "b683692a-7e1d-4a70-bf8c-39eb246ad252",
   "metadata": {},
   "outputs": [],
   "source": [
    "opal."
   ]
  }
 ],
 "metadata": {
  "kernelspec": {
   "display_name": "Python 3 (ipykernel)",
   "language": "python",
   "name": "python3"
  },
  "language_info": {
   "codemirror_mode": {
    "name": "ipython",
    "version": 3
   },
   "file_extension": ".py",
   "mimetype": "text/x-python",
   "name": "python",
   "nbconvert_exporter": "python",
   "pygments_lexer": "ipython3",
   "version": "3.12.7"
  }
 },
 "nbformat": 4,
 "nbformat_minor": 5
}

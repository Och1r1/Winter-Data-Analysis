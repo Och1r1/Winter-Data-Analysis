{
 "cells": [
  {
   "cell_type": "markdown",
   "id": "f817d3ea-32fb-4850-849b-8ffa56970335",
   "metadata": {},
   "source": [
    "## Winter Analysis Data Challenge :OO\n",
    "### Import"
   ]
  },
  {
   "cell_type": "code",
   "execution_count": 2,
   "id": "4b59e1ea-2458-4fc9-8c70-c03e576dd98f",
   "metadata": {},
   "outputs": [],
   "source": [
    "import pandas as pd\n",
    "import geopandas as gpd\n",
    "from shapely.geometry import Point, Polygon, MultiPolygon\n",
    "from geoalchemy2 import Geometry, WKTElement\n",
    "import matplotlib.pyplot as plt\n",
    "from sqlalchemy import text"
   ]
  },
  {
   "cell_type": "markdown",
   "id": "560793cc-bb49-489e-b31f-58fff66bb25c",
   "metadata": {},
   "source": [
    "### Setting up Datasets"
   ]
  },
  {
   "cell_type": "code",
   "execution_count": 24,
   "id": "80ba69c0-12f4-4330-beea-2db31d1e5b45",
   "metadata": {},
   "outputs": [],
   "source": [
    "# Station Entries\n",
    "stationEntries = pd.read_csv('TrainStationEntriesExits/train-station-entries-exits-data-may-2025.csv')\n",
    "# Station Entrance\n",
    "stationEntrances = pd.read_csv('TrainStationEntranceLocations/stationentrances2020_v4.csv')\n",
    "# Opal Patronage\n",
    "opal = pd.read_csv('OpalPatronage/Opal_Patronage_20200101.txt', sep='\\t')"
   ]
  },
  {
   "cell_type": "code",
   "execution_count": 32,
   "id": "267c6b5e-3ee2-428b-8928-6e2905198830",
   "metadata": {},
   "outputs": [
    {
     "data": {
      "text/html": [
       "<div>\n",
       "<style scoped>\n",
       "    .dataframe tbody tr th:only-of-type {\n",
       "        vertical-align: middle;\n",
       "    }\n",
       "\n",
       "    .dataframe tbody tr th {\n",
       "        vertical-align: top;\n",
       "    }\n",
       "\n",
       "    .dataframe thead th {\n",
       "        text-align: right;\n",
       "    }\n",
       "</style>\n",
       "<table border=\"1\" class=\"dataframe\">\n",
       "  <thead>\n",
       "    <tr style=\"text-align: right;\">\n",
       "      <th></th>\n",
       "      <th>trip_origin_date|mode_name|ti_region|tap_hour|Tap_Ons|Tap_Offs</th>\n",
       "    </tr>\n",
       "  </thead>\n",
       "  <tbody>\n",
       "    <tr>\n",
       "      <th>0</th>\n",
       "      <td>2020-01-01|Bus|Chatswood|0|&lt;50|&lt;50</td>\n",
       "    </tr>\n",
       "    <tr>\n",
       "      <th>1</th>\n",
       "      <td>2020-01-01|Bus|Macquarie Park|0|&lt;50|&lt;50</td>\n",
       "    </tr>\n",
       "    <tr>\n",
       "      <th>2</th>\n",
       "      <td>2020-01-01|Bus|Newcastle and surrounds|0|&lt;50|&lt;50</td>\n",
       "    </tr>\n",
       "    <tr>\n",
       "      <th>3</th>\n",
       "      <td>2020-01-01|Bus|North Sydney|0|700|100</td>\n",
       "    </tr>\n",
       "    <tr>\n",
       "      <th>4</th>\n",
       "      <td>2020-01-01|Bus|Other|0|4500|3200</td>\n",
       "    </tr>\n",
       "  </tbody>\n",
       "</table>\n",
       "</div>"
      ],
      "text/plain": [
       "  trip_origin_date|mode_name|ti_region|tap_hour|Tap_Ons|Tap_Offs\n",
       "0                 2020-01-01|Bus|Chatswood|0|<50|<50            \n",
       "1            2020-01-01|Bus|Macquarie Park|0|<50|<50            \n",
       "2   2020-01-01|Bus|Newcastle and surrounds|0|<50|<50            \n",
       "3              2020-01-01|Bus|North Sydney|0|700|100            \n",
       "4                   2020-01-01|Bus|Other|0|4500|3200            "
      ]
     },
     "execution_count": 32,
     "metadata": {},
     "output_type": "execute_result"
    }
   ],
   "source": [
    "opal.head()"
   ]
  },
  {
   "cell_type": "code",
   "execution_count": null,
   "id": "1063adf7-bd41-44aa-91aa-e395ea08ea13",
   "metadata": {},
   "outputs": [],
   "source": []
  }
 ],
 "metadata": {
  "kernelspec": {
   "display_name": "Python 3 (ipykernel)",
   "language": "python",
   "name": "python3"
  },
  "language_info": {
   "codemirror_mode": {
    "name": "ipython",
    "version": 3
   },
   "file_extension": ".py",
   "mimetype": "text/x-python",
   "name": "python",
   "nbconvert_exporter": "python",
   "pygments_lexer": "ipython3",
   "version": "3.12.7"
  }
 },
 "nbformat": 4,
 "nbformat_minor": 5
}
